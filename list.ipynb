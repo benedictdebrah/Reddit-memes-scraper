{
 "cells": [
  {
   "cell_type": "code",
   "execution_count": 2,
   "metadata": {},
   "outputs": [],
   "source": [
    "import requests\n",
    "from bs4 import BeautifulSoup\n"
   ]
  },
  {
   "cell_type": "code",
   "execution_count": 5,
   "metadata": {},
   "outputs": [],
   "source": [
    "url = 'https://www.reddit.com/r/MNN_MemeNewsNetwork/comments/a6enma/a_comprehensive_list_of_all_comedyrelated/'\n",
    "page = requests.get(url=url)\n"
   ]
  },
  {
   "cell_type": "code",
   "execution_count": 7,
   "metadata": {},
   "outputs": [],
   "source": [
    "soup = BeautifulSoup(page.content, \"html.parser\")\n"
   ]
  },
  {
   "cell_type": "code",
   "execution_count": 16,
   "metadata": {},
   "outputs": [
    {
     "name": "stdout",
     "output_type": "stream",
     "text": [
      "['funny', 'jokes', 'comedy', 'notfunny', 'bonehurtingjuice', 'ComedyCemetery', 'comedyheaven', 'ComedyNecrophilia', 'comedynecromancy', 'comedyamputation', 'okbuddyretard', 'Ooer', 'fifthworldpics', 'infiniteworldproblems', 'DeepFriedMemes', 'nukedmemes', 'blackholedmemes', 'bigbangedmemes', 'QuantumedMemes', 'deletedmemes', 'ScottishPeopleTwitter', 'fakehistoryporn', 'FellowKids', 'me_irl', 'meirl', '2meirl4meirl', 'comedyhomicide', 'comedynuke', 'ComedyHitmen', 'boottoobig', 'ComedyCemeteryLore', 'gametheorymemes', 'THE_PACK', 'AROOOOOOO', 'surrealmemes']\n"
     ]
    }
   ],
   "source": [
    "\n",
    "p_tags = soup.find_all('p')\n",
    "\n",
    "\n",
    "output_list = []\n",
    "\n",
    "for p_tag in p_tags:\n",
    "    a_tag = p_tag.find('a')\n",
    "    if a_tag:\n",
    "        text = a_tag.text\n",
    "        text = text[2:]\n",
    "        output_list.append(text)\n",
    "\n",
    "\n",
    "print(output_list)\n"
   ]
  },
  {
   "cell_type": "code",
   "execution_count": null,
   "metadata": {},
   "outputs": [],
   "source": []
  }
 ],
 "metadata": {
  "kernelspec": {
   "display_name": "venv",
   "language": "python",
   "name": "python3"
  },
  "language_info": {
   "codemirror_mode": {
    "name": "ipython",
    "version": 3
   },
   "file_extension": ".py",
   "mimetype": "text/x-python",
   "name": "python",
   "nbconvert_exporter": "python",
   "pygments_lexer": "ipython3",
   "version": "3.10.11"
  },
  "orig_nbformat": 4
 },
 "nbformat": 4,
 "nbformat_minor": 2
}
